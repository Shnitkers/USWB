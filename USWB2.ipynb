{
 "cells": [
  {
   "cell_type": "code",
   "execution_count": 11,
   "id": "0215be47-1eb3-4267-b4d3-ad3747cab59b",
   "metadata": {},
   "outputs": [
    {
     "name": "stdout",
     "output_type": "stream",
     "text": [
      "Tablica Przyblizen Romberg'a (R):\n",
      "[[3.09090909 0.         0.         0.         0.        ]\n",
      " [3.04545455 3.03030303 0.         0.         0.        ]\n",
      " [3.15181818 3.18727273 3.19773737 0.         0.        ]\n",
      " [3.15950956 3.16207335 3.16039339 3.15980063 0.        ]\n",
      " [3.16035502 3.16063684 3.16054107 3.16054342 3.16054633]]\n"
     ]
    }
   ],
   "source": [
    "import numpy as np\n",
    "\n",
    "def trapezoidRule(f, a, b, n):\n",
    "    h = (b - a) / n\n",
    "    sum = 0.5 * (f(a) + f(b))\n",
    "    for i in range(1, n):\n",
    "        sum += f(a + i * h)\n",
    "    sum *= h\n",
    "    return sum\n",
    "\n",
    "def romberg(f, a, b, n):\n",
    "\n",
    "    RArray = np.zeros((n, n))\n",
    "    for i in range(n):\n",
    "        RArray[i, 0] = trapezoidRule(f, a, b, 2**i)\n",
    "    \n",
    "    for k in range(1, n):\n",
    "        for j in range(1, k + 1):\n",
    "            RArray[k, j] = RArray[k, j-1] + (RArray[k, j-1] - RArray[k-1, j-1]) / (4**j - 1)\n",
    "    \n",
    "    return RArray\n",
    "\n",
    "#funkcja i ogarniczenia\n",
    "f = lambda x: 3 / (1 + x**5)\n",
    "a = 0\n",
    "b = 2\n",
    "n = 5\n",
    "\n",
    "R = romberg(f, a, b, n)\n",
    "print(\"Tablica Przyblizen Romberg'a (R):\")\n",
    "print(R)\n"
   ]
  },
  {
   "cell_type": "code",
   "execution_count": 10,
   "id": "29ed7463-204c-41c2-a0db-a9ccfd358da2",
   "metadata": {},
   "outputs": [
    {
     "name": "stdout",
     "output_type": "stream",
     "text": [
      "Przybliżona wartość całki metodą trapezów: 3.1605238317978475\n"
     ]
    }
   ],
   "source": [
    "def trapezoidal_rule(f, a, b, n):\n",
    "\n",
    "    h = (b - a) / n\n",
    "    sum = 0.5 * (f(a) + f(b))\n",
    "    for i in range(1, n):\n",
    "        sum += f(a + i * h)\n",
    "    return sum * h\n",
    "\n",
    "#Funkcja i ogarniczenia\n",
    "f = lambda x: 3 / (1 + x**5)\n",
    "a = 0\n",
    "b = 2\n",
    "n = 25\n",
    "\n",
    "result = trapezoidal_rule(f, a, b, n)\n",
    "print(f\"Przybliżona wartość całki metodą trapezów: {result}\")\n"
   ]
  },
  {
   "cell_type": "code",
   "execution_count": 11,
   "id": "b593787e-53b8-4eb8-924e-c2e0e0030fd1",
   "metadata": {},
   "outputs": [
    {
     "name": "stdout",
     "output_type": "stream",
     "text": [
      "Przyblizona wartosc powierzchni w przestrzeni trójwymiarowej: 0.3115733333333331\n"
     ]
    }
   ],
   "source": [
    "def simpsons_rule_2d(f, ax, bx, ay, by):\n",
    "   \n",
    "\n",
    "    #Obliczamy pkt środkowe oraz kroki\n",
    "    mx = (ax + bx) / 2.0\n",
    "    my = (ay + by) / 2.0\n",
    "    hx = (bx - ax) / 2.0\n",
    "    hy = (by - ay) / 2.0\n",
    "\n",
    "    #Wzór dla simpsona (płaszcyzna w 3d)\n",
    "    integral = (hx * hy / 9) * (\n",
    "        f(ax, ay) + f(ax, by) + f(bx, ay) + f(bx, by) +\n",
    "        4 * (f(mx, ay) + f(mx, by) + f(ax, my) + f(bx, my)) +\n",
    "        16 * f(mx, my)\n",
    "    )\n",
    "\n",
    "    return integral\n",
    "\n",
    "import math\n",
    "\n",
    "def f(x, y):\n",
    "    return x * y**2\n",
    "\n",
    "#Granice całki\n",
    "ax = 2.1\n",
    "bx = 2.5\n",
    "ay = 1.2\n",
    "by = 1.4\n",
    "\n",
    "#wywołanie\n",
    "result = simpsons_rule_2d(f, ax, bx, ay, by)\n",
    "    \n",
    "print(f\"Przyblizona wartosc powierzchni w przestrzeni trójwymiarowej: {result}\")"
   ]
  },
  {
   "cell_type": "code",
   "execution_count": null,
   "id": "2bbd4682-1b86-4aef-8d60-97581a24c3e4",
   "metadata": {},
   "outputs": [],
   "source": []
  }
 ],
 "metadata": {
  "kernelspec": {
   "display_name": "Python 3 (ipykernel)",
   "language": "python",
   "name": "python3"
  },
  "language_info": {
   "codemirror_mode": {
    "name": "ipython",
    "version": 3
   },
   "file_extension": ".py",
   "mimetype": "text/x-python",
   "name": "python",
   "nbconvert_exporter": "python",
   "pygments_lexer": "ipython3",
   "version": "3.11.7"
  }
 },
 "nbformat": 4,
 "nbformat_minor": 5
}
